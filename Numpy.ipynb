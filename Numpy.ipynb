{
  "nbformat": 4,
  "nbformat_minor": 0,
  "metadata": {
    "colab": {
      "name": "Untitled1.ipynb",
      "provenance": [],
      "authorship_tag": "ABX9TyMnvY1NCj9L/dp9CmkHey/Y",
      "include_colab_link": true
    },
    "kernelspec": {
      "name": "python3",
      "display_name": "Python 3"
    }
  },
  "cells": [
    {
      "cell_type": "markdown",
      "metadata": {
        "id": "view-in-github",
        "colab_type": "text"
      },
      "source": [
        "<a href=\"https://colab.research.google.com/github/sayaliphatak9628/Python/blob/master/Numpy.ipynb\" target=\"_parent\"><img src=\"https://colab.research.google.com/assets/colab-badge.svg\" alt=\"Open In Colab\"/></a>"
      ]
    },
    {
      "cell_type": "code",
      "metadata": {
        "id": "MSwBvJSrZaVN"
      },
      "source": [
        "import numpy as np"
      ],
      "execution_count": 1,
      "outputs": []
    },
    {
      "cell_type": "code",
      "metadata": {
        "colab": {
          "base_uri": "https://localhost:8080/"
        },
        "id": "AEuNRmQcZf5z",
        "outputId": "30cc3775-cfd2-4350-bd0a-88bea4440819"
      },
      "source": [
        "arr=np.array([1,2,3,4])\r\n",
        "print(arr)"
      ],
      "execution_count": 2,
      "outputs": [
        {
          "output_type": "stream",
          "text": [
            "[1 2 3 4]\n"
          ],
          "name": "stdout"
        }
      ]
    },
    {
      "cell_type": "code",
      "metadata": {
        "colab": {
          "base_uri": "https://localhost:8080/"
        },
        "id": "MgkodNcpZmiA",
        "outputId": "854b6e91-8db0-41eb-9b52-13ffedb983ef"
      },
      "source": [
        "arr=np.array(\r\n",
        "    [\r\n",
        "     [1,2,3],\r\n",
        "     [2,3,4]\r\n",
        "    ]\r\n",
        ")\r\n",
        "print(arr)"
      ],
      "execution_count": 3,
      "outputs": [
        {
          "output_type": "stream",
          "text": [
            "[[1 2 3]\n",
            " [2 3 4]]\n"
          ],
          "name": "stdout"
        }
      ]
    },
    {
      "cell_type": "code",
      "metadata": {
        "colab": {
          "base_uri": "https://localhost:8080/"
        },
        "id": "0tL-Gvr2Z0Jo",
        "outputId": "e64d1118-1736-438c-a5d6-eaec36e4983b"
      },
      "source": [
        "#creating list from tuple\r\n",
        "arr=np.array((1,2,3,4))\r\n",
        "print(arr)"
      ],
      "execution_count": 5,
      "outputs": [
        {
          "output_type": "stream",
          "text": [
            "[1 2 3 4]\n"
          ],
          "name": "stdout"
        }
      ]
    },
    {
      "cell_type": "code",
      "metadata": {
        "colab": {
          "base_uri": "https://localhost:8080/"
        },
        "id": "_Z7wUkwfakJJ",
        "outputId": "3e34342d-2774-4242-eab9-abbd88551451"
      },
      "source": [
        "arr=np.array(\r\n",
        "    [\r\n",
        "        [-1, 2, 0, 4],\r\n",
        "        [4, -0.5, 6, 0],\r\n",
        "        [2.6, 0, 7, 8],\r\n",
        "        [3, -7, 4, 2.0]\r\n",
        "    ]\r\n",
        ")\r\n",
        "print(arr)"
      ],
      "execution_count": 6,
      "outputs": [
        {
          "output_type": "stream",
          "text": [
            "[[-1.   2.   0.   4. ]\n",
            " [ 4.  -0.5  6.   0. ]\n",
            " [ 2.6  0.   7.   8. ]\n",
            " [ 3.  -7.   4.   2. ]]\n"
          ],
          "name": "stdout"
        }
      ]
    },
    {
      "cell_type": "code",
      "metadata": {
        "colab": {
          "base_uri": "https://localhost:8080/"
        },
        "id": "kV7ZDCHtazgP",
        "outputId": "c985af69-ef03-4cb0-c238-e7f897a905d9"
      },
      "source": [
        "#using slicing method\r\n",
        "sliced_arr=arr[:-1,::3]\r\n",
        "print(sliced_arr)"
      ],
      "execution_count": 7,
      "outputs": [
        {
          "output_type": "stream",
          "text": [
            "[[-1.   4. ]\n",
            " [ 4.   0. ]\n",
            " [ 2.6  8. ]]\n"
          ],
          "name": "stdout"
        }
      ]
    },
    {
      "cell_type": "code",
      "metadata": {
        "colab": {
          "base_uri": "https://localhost:8080/"
        },
        "id": "y1BQcQBDbH_Y",
        "outputId": "be722e28-93aa-4ae0-b1cb-227217587aea"
      },
      "source": [
        "#printing index at specific indices\r\n",
        "index_arr=arr[[1, 1, 0, 3], \r\n",
        "                [3, 2, 1, 0]]\r\n",
        "print(index_arr)"
      ],
      "execution_count": 8,
      "outputs": [
        {
          "output_type": "stream",
          "text": [
            "[0. 6. 2. 3.]\n"
          ],
          "name": "stdout"
        }
      ]
    },
    {
      "cell_type": "code",
      "metadata": {
        "colab": {
          "base_uri": "https://localhost:8080/"
        },
        "id": "WU2rizPlbZh4",
        "outputId": "ebf53dfe-fbf3-4a9f-c04d-5ccaa1a35547"
      },
      "source": [
        "a=np.array(\r\n",
        "    [\r\n",
        "     [1,2],\r\n",
        "     [3,4]\r\n",
        "    ]\r\n",
        ")\r\n",
        "print(a)"
      ],
      "execution_count": 12,
      "outputs": [
        {
          "output_type": "stream",
          "text": [
            "[[1 2]\n",
            " [3 4]]\n"
          ],
          "name": "stdout"
        }
      ]
    },
    {
      "cell_type": "code",
      "metadata": {
        "colab": {
          "base_uri": "https://localhost:8080/"
        },
        "id": "u47v80WnbkGs",
        "outputId": "2eae4b11-1e04-4faa-eb3e-2ad3dcd85a62"
      },
      "source": [
        "b=np.array(\r\n",
        "    [\r\n",
        "     [4,3],\r\n",
        "     [2,1]\r\n",
        "    ]\r\n",
        ")\r\n",
        "print(b)"
      ],
      "execution_count": 13,
      "outputs": [
        {
          "output_type": "stream",
          "text": [
            "[[4 3]\n",
            " [2 1]]\n"
          ],
          "name": "stdout"
        }
      ]
    },
    {
      "cell_type": "code",
      "metadata": {
        "colab": {
          "base_uri": "https://localhost:8080/"
        },
        "id": "ig8XHPMLbwTm",
        "outputId": "9b2fcd7d-9cc1-42db-e0c2-dc4938291eba"
      },
      "source": [
        "#adding 1 to every element\r\n",
        "a=a+1\r\n",
        "print(a)"
      ],
      "execution_count": 15,
      "outputs": [
        {
          "output_type": "stream",
          "text": [
            "[[3 4]\n",
            " [5 6]]\n"
          ],
          "name": "stdout"
        }
      ]
    },
    {
      "cell_type": "code",
      "metadata": {
        "colab": {
          "base_uri": "https://localhost:8080/"
        },
        "id": "uAygAXMwcJqa",
        "outputId": "9224ed09-e2dc-4eac-b391-857c16b7f45e"
      },
      "source": [
        "#subtracting 1 from every element\r\n",
        "b=b-1\r\n",
        "print(b)"
      ],
      "execution_count": 17,
      "outputs": [
        {
          "output_type": "stream",
          "text": [
            "[[ 2  1]\n",
            " [ 0 -1]]\n"
          ],
          "name": "stdout"
        }
      ]
    },
    {
      "cell_type": "code",
      "metadata": {
        "colab": {
          "base_uri": "https://localhost:8080/"
        },
        "id": "sXCg00c9cX-z",
        "outputId": "e3e8d061-aae7-4475-81b5-a648a2370bd4"
      },
      "source": [
        "print(a.sum())\r\n",
        "print(np.multiply(a,b)) #multiply\r\n",
        "print(np.matmul(a,b)) #matrix multiplication\r\n",
        "print(np.linalg.inv(a)) #inverse of matrix\r\n",
        "print(a.transpose())"
      ],
      "execution_count": 24,
      "outputs": [
        {
          "output_type": "stream",
          "text": [
            "18\n",
            "[[ 6  4]\n",
            " [ 0 -6]]\n",
            "[[ 6 -1]\n",
            " [10 -1]]\n",
            "[[-3.   2. ]\n",
            " [ 2.5 -1.5]]\n",
            "[[3 5]\n",
            " [4 6]]\n"
          ],
          "name": "stdout"
        }
      ]
    },
    {
      "cell_type": "code",
      "metadata": {
        "id": "MGzN03W4cgwz"
      },
      "source": [
        ""
      ],
      "execution_count": null,
      "outputs": []
    }
  ]
}