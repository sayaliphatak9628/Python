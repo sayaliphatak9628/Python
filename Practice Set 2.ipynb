{
  "nbformat": 4,
  "nbformat_minor": 0,
  "metadata": {
    "colab": {
      "name": "Untitled3.ipynb",
      "provenance": [],
      "authorship_tag": "ABX9TyO56jlrKLaH2xmX33Gxd6Vs",
      "include_colab_link": true
    },
    "kernelspec": {
      "name": "python3",
      "display_name": "Python 3"
    }
  },
  "cells": [
    {
      "cell_type": "markdown",
      "metadata": {
        "id": "view-in-github",
        "colab_type": "text"
      },
      "source": [
        "<a href=\"https://colab.research.google.com/github/sayaliphatak9628/Python/blob/master/Practice%20Set%202.ipynb\" target=\"_parent\"><img src=\"https://colab.research.google.com/assets/colab-badge.svg\" alt=\"Open In Colab\"/></a>"
      ]
    },
    {
      "cell_type": "code",
      "metadata": {
        "colab": {
          "base_uri": "https://localhost:8080/"
        },
        "id": "I8w37_l_lIQA",
        "outputId": "b57ebd71-fb68-432a-8c84-58e9b1619b15"
      },
      "source": [
        "import numpy as np\r\n",
        "\r\n",
        "train_set=np.array([1,2,3])\r\n",
        "test_set=np.array([[0,1,2],[1,2,3]])\r\n",
        "\r\n",
        "#print(train_set)\r\n",
        "#print(test_set)\r\n",
        "\r\n",
        "resulting_set=np.vstack([train_set,test_set])\r\n",
        "print(resulting_set)"
      ],
      "execution_count": 1,
      "outputs": [
        {
          "output_type": "stream",
          "text": [
            "[[1 2 3]\n",
            " [0 1 2]\n",
            " [1 2 3]]\n"
          ],
          "name": "stdout"
        }
      ]
    },
    {
      "cell_type": "code",
      "metadata": {
        "colab": {
          "base_uri": "https://localhost:8080/"
        },
        "id": "AyKPo2yml-V3",
        "outputId": "ca2fd049-8dfe-4e96-f4f2-7b193840cf70"
      },
      "source": [
        "import pandas as pd\r\n",
        "df=pd.DataFrame({\"click_id\":['A','B','C','D','E'],'Count':[100,200,300,400,250]})\r\n",
        "print(df)\r\n",
        "\r\n",
        "\r\n",
        "df.rename(columns={\"Count\":\"Click_Count\"})\r\n",
        "print(df.columns)"
      ],
      "execution_count": 2,
      "outputs": [
        {
          "output_type": "stream",
          "text": [
            "  click_id  Count\n",
            "0        A    100\n",
            "1        B    200\n",
            "2        C    300\n",
            "3        D    400\n",
            "4        E    250\n",
            "Index(['click_id', 'Count'], dtype='object')\n"
          ],
          "name": "stdout"
        }
      ]
    },
    {
      "cell_type": "code",
      "metadata": {
        "colab": {
          "base_uri": "https://localhost:8080/"
        },
        "id": "kWCHjliwmHgL",
        "outputId": "004c73d0-d9a1-4242-a458-ed18df83388e"
      },
      "source": [
        "from sklearn import preprocessing\r\n",
        "import numpy as np\r\n",
        "x_train=np.array([[-1.,-1.,2],\r\n",
        "                  [-2.,0.,0.],\r\n",
        "                  [0.,1.,-1.]])\r\n",
        "\r\n",
        "print(x_train)\r\n",
        "x_scaled=preprocessing.scale(x_train)\r\n",
        "print(x_scaled)"
      ],
      "execution_count": 3,
      "outputs": [
        {
          "output_type": "stream",
          "text": [
            "[[-1. -1.  2.]\n",
            " [-2.  0.  0.]\n",
            " [ 0.  1. -1.]]\n",
            "[[ 0.         -1.22474487  1.33630621]\n",
            " [-1.22474487  0.         -0.26726124]\n",
            " [ 1.22474487  1.22474487 -1.06904497]]\n"
          ],
          "name": "stdout"
        }
      ]
    },
    {
      "cell_type": "code",
      "metadata": {
        "colab": {
          "base_uri": "https://localhost:8080/"
        },
        "id": "5GByTHFYmj2O",
        "outputId": "2526c050-38d8-4278-a801-39ac5aafa426"
      },
      "source": [
        "class Acc:\r\n",
        "    def __init__(self,id):\r\n",
        "        self.id=id\r\n",
        "        id=555\r\n",
        "\r\n",
        "acc=Acc(111)\r\n",
        "print(acc.id)"
      ],
      "execution_count": 4,
      "outputs": [
        {
          "output_type": "stream",
          "text": [
            "111\n"
          ],
          "name": "stdout"
        }
      ]
    },
    {
      "cell_type": "code",
      "metadata": {
        "colab": {
          "base_uri": "https://localhost:8080/"
        },
        "id": "sLLHZvw0msk4",
        "outputId": "619ba014-51f4-4824-ef97-c6f16ad4fe7a"
      },
      "source": [
        "pip install scikit-learn"
      ],
      "execution_count": 7,
      "outputs": [
        {
          "output_type": "stream",
          "text": [
            "Requirement already satisfied: scikit-learn in /usr/local/lib/python3.7/dist-packages (0.22.2.post1)\n",
            "Requirement already satisfied: joblib>=0.11 in /usr/local/lib/python3.7/dist-packages (from scikit-learn) (1.0.1)\n",
            "Requirement already satisfied: numpy>=1.11.0 in /usr/local/lib/python3.7/dist-packages (from scikit-learn) (1.19.5)\n",
            "Requirement already satisfied: scipy>=0.17.0 in /usr/local/lib/python3.7/dist-packages (from scikit-learn) (1.4.1)\n"
          ],
          "name": "stdout"
        }
      ]
    },
    {
      "cell_type": "code",
      "metadata": {
        "colab": {
          "base_uri": "https://localhost:8080/",
          "height": 350
        },
        "id": "7VnyG87XnVfT",
        "outputId": "a72b9a99-b3d4-4fa2-b24f-dd89b6592169"
      },
      "source": [
        "import pandas as pd\r\n",
        "import numpy as np\r\n",
        "from sklearn.model_selection import train_test_split\r\n",
        "\r\n",
        "x=pd.DataFrame(np.srange(20).reshape((10,2)))\r\n",
        "y=pd.Series(['A','B','C','D','E','F','G','H','I',np.nan])\r\n",
        "x_train,x_test,y_train,y_test=train_test_split(x,y,test_size=0.33,random_state=123)\r\n",
        "print(\"features testing data:\\n\",x_test)\r\n",
        "print(\"prediction testing data:\\n\",y_test)"
      ],
      "execution_count": 9,
      "outputs": [
        {
          "output_type": "error",
          "ename": "AttributeError",
          "evalue": "ignored",
          "traceback": [
            "\u001b[0;31m---------------------------------------------------------------------------\u001b[0m",
            "\u001b[0;31mAttributeError\u001b[0m                            Traceback (most recent call last)",
            "\u001b[0;32m<ipython-input-9-590606b2b78b>\u001b[0m in \u001b[0;36m<module>\u001b[0;34m()\u001b[0m\n\u001b[1;32m      3\u001b[0m \u001b[0;32mfrom\u001b[0m \u001b[0msklearn\u001b[0m\u001b[0;34m.\u001b[0m\u001b[0mmodel_selection\u001b[0m \u001b[0;32mimport\u001b[0m \u001b[0mtrain_test_split\u001b[0m\u001b[0;34m\u001b[0m\u001b[0;34m\u001b[0m\u001b[0m\n\u001b[1;32m      4\u001b[0m \u001b[0;34m\u001b[0m\u001b[0m\n\u001b[0;32m----> 5\u001b[0;31m \u001b[0mx\u001b[0m\u001b[0;34m=\u001b[0m\u001b[0mpd\u001b[0m\u001b[0;34m.\u001b[0m\u001b[0mDataFrame\u001b[0m\u001b[0;34m(\u001b[0m\u001b[0mnp\u001b[0m\u001b[0;34m.\u001b[0m\u001b[0msrange\u001b[0m\u001b[0;34m(\u001b[0m\u001b[0;36m20\u001b[0m\u001b[0;34m)\u001b[0m\u001b[0;34m.\u001b[0m\u001b[0mreshape\u001b[0m\u001b[0;34m(\u001b[0m\u001b[0;34m(\u001b[0m\u001b[0;36m10\u001b[0m\u001b[0;34m,\u001b[0m\u001b[0;36m2\u001b[0m\u001b[0;34m)\u001b[0m\u001b[0;34m)\u001b[0m\u001b[0;34m)\u001b[0m\u001b[0;34m\u001b[0m\u001b[0;34m\u001b[0m\u001b[0m\n\u001b[0m\u001b[1;32m      6\u001b[0m \u001b[0my\u001b[0m\u001b[0;34m=\u001b[0m\u001b[0mpd\u001b[0m\u001b[0;34m.\u001b[0m\u001b[0mSeries\u001b[0m\u001b[0;34m(\u001b[0m\u001b[0;34m[\u001b[0m\u001b[0;34m'A'\u001b[0m\u001b[0;34m,\u001b[0m\u001b[0;34m'B'\u001b[0m\u001b[0;34m,\u001b[0m\u001b[0;34m'C'\u001b[0m\u001b[0;34m,\u001b[0m\u001b[0;34m'D'\u001b[0m\u001b[0;34m,\u001b[0m\u001b[0;34m'E'\u001b[0m\u001b[0;34m,\u001b[0m\u001b[0;34m'F'\u001b[0m\u001b[0;34m,\u001b[0m\u001b[0;34m'G'\u001b[0m\u001b[0;34m,\u001b[0m\u001b[0;34m'H'\u001b[0m\u001b[0;34m,\u001b[0m\u001b[0;34m'I'\u001b[0m\u001b[0;34m,\u001b[0m\u001b[0mnp\u001b[0m\u001b[0;34m.\u001b[0m\u001b[0mnan\u001b[0m\u001b[0;34m]\u001b[0m\u001b[0;34m)\u001b[0m\u001b[0;34m\u001b[0m\u001b[0;34m\u001b[0m\u001b[0m\n\u001b[1;32m      7\u001b[0m \u001b[0mx_train\u001b[0m\u001b[0;34m,\u001b[0m\u001b[0mx_test\u001b[0m\u001b[0;34m,\u001b[0m\u001b[0my_train\u001b[0m\u001b[0;34m,\u001b[0m\u001b[0my_test\u001b[0m\u001b[0;34m=\u001b[0m\u001b[0mtrain_test_split\u001b[0m\u001b[0;34m(\u001b[0m\u001b[0mx\u001b[0m\u001b[0;34m,\u001b[0m\u001b[0my\u001b[0m\u001b[0;34m,\u001b[0m\u001b[0mtest_size\u001b[0m\u001b[0;34m=\u001b[0m\u001b[0;36m0.33\u001b[0m\u001b[0;34m,\u001b[0m\u001b[0mrandom_state\u001b[0m\u001b[0;34m=\u001b[0m\u001b[0;36m123\u001b[0m\u001b[0;34m)\u001b[0m\u001b[0;34m\u001b[0m\u001b[0;34m\u001b[0m\u001b[0m\n",
            "\u001b[0;32m/usr/local/lib/python3.7/dist-packages/numpy/__init__.py\u001b[0m in \u001b[0;36m__getattr__\u001b[0;34m(attr)\u001b[0m\n\u001b[1;32m    213\u001b[0m             \u001b[0;32melse\u001b[0m\u001b[0;34m:\u001b[0m\u001b[0;34m\u001b[0m\u001b[0;34m\u001b[0m\u001b[0m\n\u001b[1;32m    214\u001b[0m                 raise AttributeError(\"module {!r} has no attribute \"\n\u001b[0;32m--> 215\u001b[0;31m                                      \"{!r}\".format(__name__, attr))\n\u001b[0m\u001b[1;32m    216\u001b[0m \u001b[0;34m\u001b[0m\u001b[0m\n\u001b[1;32m    217\u001b[0m         \u001b[0;32mdef\u001b[0m \u001b[0m__dir__\u001b[0m\u001b[0;34m(\u001b[0m\u001b[0;34m)\u001b[0m\u001b[0;34m:\u001b[0m\u001b[0;34m\u001b[0m\u001b[0;34m\u001b[0m\u001b[0m\n",
            "\u001b[0;31mAttributeError\u001b[0m: module 'numpy' has no attribute 'srange'"
          ]
        }
      ]
    },
    {
      "cell_type": "code",
      "metadata": {
        "colab": {
          "base_uri": "https://localhost:8080/"
        },
        "id": "6v_dZSECnw2B",
        "outputId": "008a6b63-99af-4d2f-e5e8-fbd80fdefe11"
      },
      "source": [
        "import pandas as pd\r\n",
        "sdata={\"Ohio\":35000,\"Texas\":71000,\"Oregon\":16000,\"Utah\":5000}\r\n",
        "states={\"California\",\"Ohio\",\"Oregon\",\"Texas\"}\r\n",
        "obj4=pd.Series(sdata,index=states)\r\n",
        "print(pd.isnull(obj4))"
      ],
      "execution_count": 10,
      "outputs": [
        {
          "output_type": "stream",
          "text": [
            "Texas         False\n",
            "Oregon        False\n",
            "Ohio          False\n",
            "California     True\n",
            "dtype: bool\n"
          ],
          "name": "stdout"
        }
      ]
    },
    {
      "cell_type": "code",
      "metadata": {
        "colab": {
          "base_uri": "https://localhost:8080/"
        },
        "id": "BzckF9yqn72m",
        "outputId": "897d8360-0b1c-446a-dd7f-b7b54ac5ba4e"
      },
      "source": [
        "import pandas as pd\r\n",
        "\r\n",
        "s1=pd.Series([7.3,-2.5,3.4,1.5],index=['a','c','d','e'])\r\n",
        "s2=pd.Series([-2.1,3.6,-1.5,4,3.1],index=['a','c','e','f','g'])\r\n",
        "print(s1+s2)"
      ],
      "execution_count": 11,
      "outputs": [
        {
          "output_type": "stream",
          "text": [
            "a    5.2\n",
            "c    1.1\n",
            "d    NaN\n",
            "e    0.0\n",
            "f    NaN\n",
            "g    NaN\n",
            "dtype: float64\n"
          ],
          "name": "stdout"
        }
      ]
    },
    {
      "cell_type": "code",
      "metadata": {
        "colab": {
          "base_uri": "https://localhost:8080/"
        },
        "id": "8zhzktXToMyO",
        "outputId": "85327f8a-b8ca-41d7-f960-a06371dddaff"
      },
      "source": [
        "import pandas as pd\r\n",
        "data1={\"men\":[50,20,60,30,50,60],\"Women\":[40,50,60,30,10,60]}\r\n",
        "df=pd.DataFrame(data1,index=pd.period_range(\"1-2004\",\"6-2004\",freq=\"M\"))\r\n",
        "Roll_mean=df.rolling(3,min_periods=1).mean()\r\n",
        "print(Roll_mean)"
      ],
      "execution_count": 12,
      "outputs": [
        {
          "output_type": "stream",
          "text": [
            "               men      Women\n",
            "2004-01  50.000000  40.000000\n",
            "2004-02  35.000000  45.000000\n",
            "2004-03  43.333333  50.000000\n",
            "2004-04  36.666667  46.666667\n",
            "2004-05  46.666667  33.333333\n",
            "2004-06  46.666667  33.333333\n"
          ],
          "name": "stdout"
        }
      ]
    },
    {
      "cell_type": "code",
      "metadata": {
        "colab": {
          "base_uri": "https://localhost:8080/"
        },
        "id": "h_dRzxt7oTSH",
        "outputId": "8ed2f8ba-493e-47db-956a-9883ffee7899"
      },
      "source": [
        "import pandas as pd\r\n",
        "import numpy as np\r\n",
        "df=pd.DataFrame({\"id\":[1,2,3,4],\"val\":[2,5,np.nan,6]})\r\n",
        "print(df.val==np.nan)"
      ],
      "execution_count": 13,
      "outputs": [
        {
          "output_type": "stream",
          "text": [
            "0    False\n",
            "1    False\n",
            "2    False\n",
            "3    False\n",
            "Name: val, dtype: bool\n"
          ],
          "name": "stdout"
        }
      ]
    },
    {
      "cell_type": "code",
      "metadata": {
        "colab": {
          "base_uri": "https://localhost:8080/"
        },
        "id": "xI91xhYPocei",
        "outputId": "2c892e65-5ee3-4c86-f56c-12951ebf0f82"
      },
      "source": [
        "import pandas as pd\r\n",
        "s=pd.Series([\"Tom\",\"Willium Rick\",\"John\",\"Alber@t\"])\r\n",
        "print(s.str.swapcase())"
      ],
      "execution_count": 14,
      "outputs": [
        {
          "output_type": "stream",
          "text": [
            "0             tOM\n",
            "1    wILLIUM rICK\n",
            "2            jOHN\n",
            "3         aLBER@T\n",
            "dtype: object\n"
          ],
          "name": "stdout"
        }
      ]
    },
    {
      "cell_type": "code",
      "metadata": {
        "colab": {
          "base_uri": "https://localhost:8080/"
        },
        "id": "yn27h8IDon0N",
        "outputId": "c5ac30b9-369e-4f77-af28-eb9cfadf2161"
      },
      "source": [
        "class A(object):\r\n",
        "    val=1\r\n",
        "class B(A):\r\n",
        "    pass\r\n",
        "class C(A):\r\n",
        "    pass\r\n",
        "\r\n",
        "print(A.val,B.val,C.val)\r\n",
        "B.val=2\r\n",
        "print(A.val,B.val,C.val)\r\n",
        "A.val=3\r\n",
        "print(A.val,B.val,C.val)"
      ],
      "execution_count": 15,
      "outputs": [
        {
          "output_type": "stream",
          "text": [
            "1 1 1\n",
            "1 2 1\n",
            "3 2 3\n"
          ],
          "name": "stdout"
        }
      ]
    },
    {
      "cell_type": "code",
      "metadata": {
        "colab": {
          "base_uri": "https://localhost:8080/"
        },
        "id": "yuy62DcYo2QS",
        "outputId": "c20e373e-fb84-4d98-b7f3-f360acc62037"
      },
      "source": [
        "import pandas as pd\r\n",
        "\r\n",
        "df=pd.DataFrame({\"A\":[2,4,8,0],\r\n",
        "                \"B\":[2,0,0,0],\r\n",
        "                \"C\":[10,2,1,8],\r\n",
        "                 \"D\":[4,6,1,0]},\r\n",
        "                index=[\"W\",\"X\",\"Y\",\"Z\"])\r\n",
        "\r\n",
        "df[\"A\"].sample(n=3,random_state=1)\r\n",
        "print(df)"
      ],
      "execution_count": 16,
      "outputs": [
        {
          "output_type": "stream",
          "text": [
            "   A  B   C  D\n",
            "W  2  2  10  4\n",
            "X  4  0   2  6\n",
            "Y  8  0   1  1\n",
            "Z  0  0   8  0\n"
          ],
          "name": "stdout"
        }
      ]
    },
    {
      "cell_type": "code",
      "metadata": {
        "colab": {
          "base_uri": "https://localhost:8080/",
          "height": 52
        },
        "id": "1l7a4en5pLka",
        "outputId": "2501a61f-a4a9-4f45-f3cf-b484dc888419"
      },
      "source": [
        "from sklearn.metrics import accuracy_score\r\n",
        "\r\n",
        "y_pred=[1,1,0,1,0,0,1,0,0,0,1,1,0]\r\n",
        "y_true=[1,0,0,1,0,0,1,1,1,0,1,0,0]\r\n",
        "print(accuracy_score(y_true,y_pred))\r\n",
        "\r\n",
        "\r\n",
        "\r\n",
        "'''\r\n",
        "count=0\r\n",
        "for x,y in zip(y_pred,y_true):\r\n",
        "\r\n",
        "    if(x==y):\r\n",
        "        count=count+1\r\n",
        "        \r\n",
        "print(count/len(y_pred))\r\n",
        "'''"
      ],
      "execution_count": 17,
      "outputs": [
        {
          "output_type": "stream",
          "text": [
            "0.6923076923076923\n"
          ],
          "name": "stdout"
        },
        {
          "output_type": "execute_result",
          "data": {
            "application/vnd.google.colaboratory.intrinsic+json": {
              "type": "string"
            },
            "text/plain": [
              "'\\ncount=0\\nfor x,y in zip(y_pred,y_true):\\n\\n    if(x==y):\\n        count=count+1\\n        \\nprint(count/len(y_pred))\\n'"
            ]
          },
          "metadata": {
            "tags": []
          },
          "execution_count": 17
        }
      ]
    },
    {
      "cell_type": "code",
      "metadata": {
        "colab": {
          "base_uri": "https://localhost:8080/"
        },
        "id": "e8qt8BiPpV85",
        "outputId": "d2d1f77b-b38a-4381-87a5-55e7e98d8844"
      },
      "source": [
        "pip install matplotlib"
      ],
      "execution_count": 18,
      "outputs": [
        {
          "output_type": "stream",
          "text": [
            "Requirement already satisfied: matplotlib in /usr/local/lib/python3.7/dist-packages (3.2.2)\n",
            "Requirement already satisfied: cycler>=0.10 in /usr/local/lib/python3.7/dist-packages (from matplotlib) (0.10.0)\n",
            "Requirement already satisfied: python-dateutil>=2.1 in /usr/local/lib/python3.7/dist-packages (from matplotlib) (2.8.1)\n",
            "Requirement already satisfied: numpy>=1.11 in /usr/local/lib/python3.7/dist-packages (from matplotlib) (1.19.5)\n",
            "Requirement already satisfied: pyparsing!=2.0.4,!=2.1.2,!=2.1.6,>=2.0.1 in /usr/local/lib/python3.7/dist-packages (from matplotlib) (2.4.7)\n",
            "Requirement already satisfied: kiwisolver>=1.0.1 in /usr/local/lib/python3.7/dist-packages (from matplotlib) (1.3.1)\n",
            "Requirement already satisfied: six in /usr/local/lib/python3.7/dist-packages (from cycler>=0.10->matplotlib) (1.15.0)\n"
          ],
          "name": "stdout"
        }
      ]
    },
    {
      "cell_type": "code",
      "metadata": {
        "colab": {
          "base_uri": "https://localhost:8080/",
          "height": 265
        },
        "id": "doh4Z4G7peF0",
        "outputId": "068bc428-442b-4237-8b9c-0f4e234720d1"
      },
      "source": [
        "import matplotlib.pyplot as plt\r\n",
        "import numpy as np\r\n",
        "from sklearn.cluster import KMeans\r\n",
        "X=np.array([[5,3],\r\n",
        "            [10,15],\r\n",
        "            [15,12],\r\n",
        "            [60,78],\r\n",
        "            [55,52],\r\n",
        "            [80,91],])\r\n",
        "\r\n",
        "kmeans=KMeans(n_clusters=2)\r\n",
        "kmeans.fit(X)\r\n",
        "plt.scatter(X[:,0],X[:,1],c=kmeans.labels_,cmap='rainbow')\r\n",
        "plt.show()\r\n"
      ],
      "execution_count": 19,
      "outputs": [
        {
          "output_type": "display_data",
          "data": {
            "image/png": "[encoded data removed]",
            "text/plain": [
              "<Figure size 432x288 with 1 Axes>"
            ]
          },
          "metadata": {
            "tags": [],
            "needs_background": "light"
          }
        }
      ]
    },
    {
      "cell_type": "code",
      "metadata": {
        "colab": {
          "base_uri": "https://localhost:8080/"
        },
        "id": "Z3ZbUSu6rCc1",
        "outputId": "7684242a-a297-4b6a-8490-46c86adc5c5f"
      },
      "source": [
        "import numpy as np\r\n",
        "from sklearn.discriminant_analysis import LinearDiscriminantAnalysis\r\n",
        "X=np.array([[-1,-1],\r\n",
        "            [-2,-5],\r\n",
        "            [200,800],\r\n",
        "            [3,1],\r\n",
        "            [2,3],\r\n",
        "            [50,10],\r\n",
        "            [-1,-3]])\r\n",
        "\r\n",
        "Y=np.array([0,0,2,1,1,2,0])\r\n",
        "clf=LinearDiscriminantAnalysis()\r\n",
        "clf.fit(X,Y)\r\n",
        "print(clf.predict([[-1,-3]]))"
      ],
      "execution_count": 20,
      "outputs": [
        {
          "output_type": "stream",
          "text": [
            "[0]\n"
          ],
          "name": "stdout"
        }
      ]
    },
    {
      "cell_type": "code",
      "metadata": {
        "colab": {
          "base_uri": "https://localhost:8080/"
        },
        "id": "1TxwSO2PrIxZ",
        "outputId": "5e67ee68-8201-45ae-bedf-67864f427b60"
      },
      "source": [
        "import numpy as np\r\n",
        "from sklearn.decomposition import PCA\r\n",
        "\r\n",
        "X=np.array([[-1,-1,2],\r\n",
        "           [-2,-1,3],\r\n",
        "           [-3,-2,5]])\r\n",
        "\r\n",
        "pca=PCA(n_components=3)\r\n",
        "pca.fit(X)\r\n",
        "print(pca.transform(X).shape)"
      ],
      "execution_count": 21,
      "outputs": [
        {
          "output_type": "stream",
          "text": [
            "(3, 3)\n"
          ],
          "name": "stdout"
        }
      ]
    },
    {
      "cell_type": "code",
      "metadata": {
        "colab": {
          "base_uri": "https://localhost:8080/"
        },
        "id": "WXONx8z1rVpO",
        "outputId": "7af85eeb-c5f1-4a5c-a6a3-1b718c392e5c"
      },
      "source": [
        "pip install networkx"
      ],
      "execution_count": 22,
      "outputs": [
        {
          "output_type": "stream",
          "text": [
            "Requirement already satisfied: networkx in /usr/local/lib/python3.7/dist-packages (2.5)\n",
            "Requirement already satisfied: decorator>=4.3.0 in /usr/local/lib/python3.7/dist-packages (from networkx) (4.4.2)\n"
          ],
          "name": "stdout"
        }
      ]
    },
    {
      "cell_type": "code",
      "metadata": {
        "colab": {
          "base_uri": "https://localhost:8080/",
          "height": 319
        },
        "id": "mcGG4PYyrfUc",
        "outputId": "61305afc-7d39-4f18-e53e-2731c4adf67a"
      },
      "source": [
        "import networkx as nx\r\n",
        "import matplotlib.pyplot as plt\r\n",
        "my_graph=nx.Graph()\r\n",
        "\r\n",
        "my_graph.add_edges_from([\r\n",
        "                    (\"a\",\"b\"),\r\n",
        "                    (2,3),\r\n",
        "                    (3,4),\r\n",
        "                    (4,5),\r\n",
        "                    (2,4)])\r\n",
        "\r\n",
        "nx.draw(my_graph,with_labels=True,font_weight='bold')\r\n",
        "plt.show()"
      ],
      "execution_count": 23,
      "outputs": [
        {
          "output_type": "display_data",
          "data": {
            "image/png": "[encoded data removed]",
            "text/plain": [
              "<Figure size 432x288 with 1 Axes>"
            ]
          },
          "metadata": {
            "tags": []
          }
        }
      ]
    },
    {
      "cell_type": "code",
      "metadata": {
        "colab": {
          "base_uri": "https://localhost:8080/"
        },
        "id": "JbNw3tAKrm2a",
        "outputId": "8c05e1a8-d56f-445f-aa09-15c94d00a482"
      },
      "source": [
        "import pandas as pd\r\n",
        "d={\"Name\":pd.Series([\"Tom\",\"James\",\"Ricky\",\"Van\",\"Steve\",\"Smith\",\"Jack\",\"Lee\",\"David\",\"Gasper\",\"Betina\",\"Andres\"]),\r\n",
        "   \"Age\":pd.Series([25,26,25,23,30,29,23,34,40,30,51,46]),\r\n",
        "   \"Rating\":pd.Series([4.23,3.24,3.98,2.56,3.20,4.6,3.8,3.78,2.98,4.80,4.10,3.65])}\r\n",
        "\r\n",
        "df=pd.DataFrame(d)\r\n",
        "print(df.sum(0))"
      ],
      "execution_count": 24,
      "outputs": [
        {
          "output_type": "stream",
          "text": [
            "Name      TomJamesRickyVanSteveSmithJackLeeDavidGasperBe...\n",
            "Age                                                     382\n",
            "Rating                                                44.92\n",
            "dtype: object\n"
          ],
          "name": "stdout"
        }
      ]
    },
    {
      "cell_type": "code",
      "metadata": {
        "colab": {
          "base_uri": "https://localhost:8080/"
        },
        "id": "I5GhpUjlr8f5",
        "outputId": "e0cea28f-2e55-41fc-bae0-bffcc0f187fc"
      },
      "source": [
        "from sklearn.metrics import confusion_matrix\r\n",
        "\r\n",
        "y_true=[2,0,2,2,0,1]\r\n",
        "y_pred=[0,0,2,2,0,2]\r\n",
        "\r\n",
        "print(confusion_matrix(y_true,y_pred))"
      ],
      "execution_count": 25,
      "outputs": [
        {
          "output_type": "stream",
          "text": [
            "[[2 0 0]\n",
            " [0 0 1]\n",
            " [1 0 2]]\n"
          ],
          "name": "stdout"
        }
      ]
    },
    {
      "cell_type": "code",
      "metadata": {
        "colab": {
          "base_uri": "https://localhost:8080/"
        },
        "id": "nadiV2gZsNAM",
        "outputId": "c6767c62-5212-455d-ccd2-bb93735e83b4"
      },
      "source": [
        "pip install scipy"
      ],
      "execution_count": 26,
      "outputs": [
        {
          "output_type": "stream",
          "text": [
            "Requirement already satisfied: scipy in /usr/local/lib/python3.7/dist-packages (1.4.1)\n",
            "Requirement already satisfied: numpy>=1.13.3 in /usr/local/lib/python3.7/dist-packages (from scipy) (1.19.5)\n"
          ],
          "name": "stdout"
        }
      ]
    },
    {
      "cell_type": "code",
      "metadata": {
        "colab": {
          "base_uri": "https://localhost:8080/"
        },
        "id": "hI-0cZREsQ3d",
        "outputId": "57a07daa-6f05-4f45-b2ba-ade0cc56f912"
      },
      "source": [
        "from scipy.spatial import distance\r\n",
        "import pandas as pd\r\n",
        "\r\n",
        "p=pd.Series([1,2,3])\r\n",
        "q=pd.Series([1,3,5])\r\n",
        "\r\n",
        "print(distance.euclidean(p,q))"
      ],
      "execution_count": 27,
      "outputs": [
        {
          "output_type": "stream",
          "text": [
            "2.23606797749979\n"
          ],
          "name": "stdout"
        }
      ]
    },
    {
      "cell_type": "code",
      "metadata": {
        "colab": {
          "base_uri": "https://localhost:8080/"
        },
        "id": "Yb3-niw2sWgS",
        "outputId": "f0c845c3-973f-4056-c0ae-03c19fdaad01"
      },
      "source": [
        "import numpy as np\r\n",
        "from sklearn.decomposition import PCA\r\n",
        "print(pca.explained_variance_ratio_[1])"
      ],
      "execution_count": 28,
      "outputs": [
        {
          "output_type": "stream",
          "text": [
            "0.018954307079165362\n"
          ],
          "name": "stdout"
        }
      ]
    },
    {
      "cell_type": "code",
      "metadata": {
        "colab": {
          "base_uri": "https://localhost:8080/",
          "height": 319
        },
        "id": "wf5Rdk4QsdVs",
        "outputId": "bf6a031d-2791-40d3-f978-4c36b9d574c5"
      },
      "source": [
        "import matplotlib.pyplot as plt\r\n",
        "import networkx as nx\r\n",
        "\r\n",
        "G=nx.Graph()\r\n",
        "G.add_node(\"a\")\r\n",
        "G.add_nodes_from([\"b\",\"c\"])\r\n",
        "G.add_edge(1,2)\r\n",
        "edge=(\"d\",\"e\")\r\n",
        "G.add_edge(*edge)\r\n",
        "edge=(\"a\",\"b\")\r\n",
        "G.add_edge(*edge)\r\n",
        "G.add_edges_from([(\"a\",\"c\"),(\"c\",\"d\"),(\"a\",1),(1,\"d\"),(\"a\",2)])\r\n",
        "nx.draw(G)\r\n",
        "plt.show()"
      ],
      "execution_count": 29,
      "outputs": [
        {
          "output_type": "display_data",
          "data": {
            "image/png": "[encoded data removed]",
            "text/plain": [
              "<Figure size 432x288 with 1 Axes>"
            ]
          },
          "metadata": {
            "tags": []
          }
        }
      ]
    },
    {
      "cell_type": "code",
      "metadata": {
        "colab": {
          "base_uri": "https://localhost:8080/"
        },
        "id": "0hM1vUVFsiD4",
        "outputId": "f8555ac3-0128-473f-aaff-9d8ace2f0506"
      },
      "source": [
        "s=\"python\"\r\n",
        "print(list(s))"
      ],
      "execution_count": 30,
      "outputs": [
        {
          "output_type": "stream",
          "text": [
            "['p', 'y', 't', 'h', 'o', 'n']\n"
          ],
          "name": "stdout"
        }
      ]
    },
    {
      "cell_type": "code",
      "metadata": {
        "colab": {
          "base_uri": "https://localhost:8080/"
        },
        "id": "C_-4TGbPsqsf",
        "outputId": "563695c9-255d-4d44-a6a0-df9ffdd9b60c"
      },
      "source": [
        "import pandas as pd\r\n",
        "import numpy as np\r\n",
        "\r\n",
        "df=pd.DataFrame({\"A\":[1,5,3,4,2],\r\n",
        "                 \"B\":[3,2,4,3,4],\r\n",
        "                 \"C\":[2,2,7,3,4],\r\n",
        "                 \"D\":[4,3,6,12,7]},\r\n",
        "                columns=[\"A\",\"B\",\"C\",\"D\"])\r\n",
        "\r\n",
        "#Row    - 0\r\n",
        "#Column - 1\r\n",
        "print(df.apply(np.mean,axis=1))"
      ],
      "execution_count": 31,
      "outputs": [
        {
          "output_type": "stream",
          "text": [
            "0    2.50\n",
            "1    3.00\n",
            "2    5.00\n",
            "3    5.50\n",
            "4    4.25\n",
            "dtype: float64\n"
          ],
          "name": "stdout"
        }
      ]
    },
    {
      "cell_type": "code",
      "metadata": {
        "colab": {
          "base_uri": "https://localhost:8080/"
        },
        "id": "M2ecdgwTs2FL",
        "outputId": "e9c0b44c-2427-4e60-e882-a941cf19833b"
      },
      "source": [
        "import pandas as pd\r\n",
        "d={\"Name\":pd.Series([\"Tom\",\"James\",\"Ricky\",\"Van\",\"Steve\",\"Smith\",\"Jack\",\"Lee\",\"David\",\"Gasper\",\"Betina\",\"Andres\"]),\r\n",
        "   \"Age\":pd.Series([25,26,25,23,30,29,23,34,40,30,51,46]),\r\n",
        "   \"Rating\":pd.Series([4.23,3.24,3.98,2.56,3.20,4.6,3.8,3.78,2.98,4.80,4.10,3.65])}\r\n",
        "\r\n",
        "df=pd.DataFrame(d)\r\n",
        "print(df.std(0))"
      ],
      "execution_count": 32,
      "outputs": [
        {
          "output_type": "stream",
          "text": [
            "Age       9.232682\n",
            "Rating    0.661628\n",
            "dtype: float64\n"
          ],
          "name": "stdout"
        }
      ]
    },
    {
      "cell_type": "code",
      "metadata": {
        "colab": {
          "base_uri": "https://localhost:8080/"
        },
        "id": "3NZ9-Tk8tGmo",
        "outputId": "99b7899e-c50c-4bd5-abd3-ab9ac6358b4b"
      },
      "source": [
        "import pandas as pd\r\n",
        "df=pd.DataFrame([[-1,-2,-5,-8],\r\n",
        "                 [-9,-3,-5,-1],\r\n",
        "                 [-1,-2,-6,-3]],\r\n",
        "                index=pd.date_range(\"1/1/2000\",periods=3),\r\n",
        "                columns=[\"A\",\"B\",\"C\",\"D\"])\r\n",
        "print(df.rolling(window=2).mean())"
      ],
      "execution_count": 33,
      "outputs": [
        {
          "output_type": "stream",
          "text": [
            "              A    B    C    D\n",
            "2000-01-01  NaN  NaN  NaN  NaN\n",
            "2000-01-02 -5.0 -2.5 -5.0 -4.5\n",
            "2000-01-03 -5.0 -2.5 -5.5 -2.0\n"
          ],
          "name": "stdout"
        }
      ]
    },
    {
      "cell_type": "code",
      "metadata": {
        "colab": {
          "base_uri": "https://localhost:8080/"
        },
        "id": "PZSHbjlFt3Fn",
        "outputId": "9439d6d3-f2de-49d8-bfce-d1596b4ded39"
      },
      "source": [
        "import pandas as pd\r\n",
        "import numpy as np\r\n",
        "\r\n",
        "s=[\"a\",\"b\",np.nan]\r\n",
        "print(pd.get_dummies(s))"
      ],
      "execution_count": 34,
      "outputs": [
        {
          "output_type": "stream",
          "text": [
            "   a  b\n",
            "0  1  0\n",
            "1  0  1\n",
            "2  0  0\n"
          ],
          "name": "stdout"
        }
      ]
    },
    {
      "cell_type": "code",
      "metadata": {
        "colab": {
          "base_uri": "https://localhost:8080/"
        },
        "id": "DlBYFNgOt9r_",
        "outputId": "9631413c-c726-4dd4-dd14-f200a5c40cb8"
      },
      "source": [
        "import pandas as pd\r\n",
        "\r\n",
        "df1=pd.DataFrame([[2.23,4.00,-6.56],\r\n",
        "                  [8.12,-10,-12.89],\r\n",
        "                  [14.23,-1.36,-1.8],\r\n",
        "                  [20.56,-3.2,60.3]],\r\n",
        "                 columns=[\"col1\",\"col2\",\"col3\"])\r\n",
        "\r\n",
        "print(df1.rename(columns={\"col1\":\"column1\",\"col2\":\"column2\"},\r\n",
        "                 index={0:\"apple\",1:\"banana\",2:\"durian\"}))"
      ],
      "execution_count": 35,
      "outputs": [
        {
          "output_type": "stream",
          "text": [
            "        column1  column2   col3\n",
            "apple      2.23     4.00  -6.56\n",
            "banana     8.12   -10.00 -12.89\n",
            "durian    14.23    -1.36  -1.80\n",
            "3         20.56    -3.20  60.30\n"
          ],
          "name": "stdout"
        }
      ]
    },
    {
      "cell_type": "code",
      "metadata": {
        "colab": {
          "base_uri": "https://localhost:8080/"
        },
        "id": "zCTueJ8guEHe",
        "outputId": "074b28e0-d2a2-47f7-9000-6fd911789bcf"
      },
      "source": [
        "import pandas as pd\r\n",
        "import numpy as np\r\n",
        "\r\n",
        "X=pd.DataFrame(np.arange(29.5).reshape((6,5)))\r\n",
        "rows=X.sample(n=3)\r\n",
        "print(\"Sampled rows: \\n\",rows)"
      ],
      "execution_count": 36,
      "outputs": [
        {
          "output_type": "stream",
          "text": [
            "Sampled rows: \n",
            "       0     1     2     3     4\n",
            "3  15.0  16.0  17.0  18.0  19.0\n",
            "1   5.0   6.0   7.0   8.0   9.0\n",
            "2  10.0  11.0  12.0  13.0  14.0\n"
          ],
          "name": "stdout"
        }
      ]
    },
    {
      "cell_type": "code",
      "metadata": {
        "colab": {
          "base_uri": "https://localhost:8080/"
        },
        "id": "1wQ3batRuJpK",
        "outputId": "41f56488-e546-4c23-9208-9dfc98898688"
      },
      "source": [
        "#random state\r\n",
        "import pandas as pd\r\n",
        "df=pd.DataFrame({\"A\":[2,4,8,0],\r\n",
        "                 \"B\":[2,0,0,0],\r\n",
        "                 \"C\":[10,2,1,8],\r\n",
        "                 \"D\":[4,6,1,0]},index=[\"W\",\"X\",\"Y\",\"Z\"])\r\n",
        "\r\n",
        "df[\"A\"].sample(n=4,random_state=4)\r\n",
        "print(df)"
      ],
      "execution_count": 37,
      "outputs": [
        {
          "output_type": "stream",
          "text": [
            "   A  B   C  D\n",
            "W  2  2  10  4\n",
            "X  4  0   2  6\n",
            "Y  8  0   1  1\n",
            "Z  0  0   8  0\n"
          ],
          "name": "stdout"
        }
      ]
    },
    {
      "cell_type": "code",
      "metadata": {
        "colab": {
          "base_uri": "https://localhost:8080/"
        },
        "id": "bos4nb1TuRd5",
        "outputId": "c354f22f-c253-48c7-b34a-32a16c393692"
      },
      "source": [
        "#reindex method\r\n",
        "import pandas as pd\r\n",
        "import numpy as np\r\n",
        "df1=pd.DataFrame([[2.23,4.00,-6.56],\r\n",
        "                  [8.12,-10,-12.89],\r\n",
        "                  [14.23,-1.36,-1.8],\r\n",
        "                  [20.56,-3.2,60.3]],columns=[\"col1\",\"col2\",\"col3\"])\r\n",
        "print(df1.reindex([0,1,2,3,4,5],method=\"ffill\",limit=1))"
      ],
      "execution_count": 38,
      "outputs": [
        {
          "output_type": "stream",
          "text": [
            "    col1   col2   col3\n",
            "0   2.23   4.00  -6.56\n",
            "1   8.12 -10.00 -12.89\n",
            "2  14.23  -1.36  -1.80\n",
            "3  20.56  -3.20  60.30\n",
            "4  20.56  -3.20  60.30\n",
            "5    NaN    NaN    NaN\n"
          ],
          "name": "stdout"
        }
      ]
    },
    {
      "cell_type": "code",
      "metadata": {
        "colab": {
          "base_uri": "https://localhost:8080/"
        },
        "id": "ah5NizllufOz",
        "outputId": "31049acd-82ad-4c58-f639-a415f5d63448"
      },
      "source": [
        "#rstrip demo\r\n",
        "import pandas as pd\r\n",
        "import numpy as np\r\n",
        "s=pd.Series([\"1. Ant. \",\"2. Bee!\\n\",\"3. Cat?\\t\",np.nan])\r\n",
        "print(s.str.rstrip(\".!? \\n\\t\"))"
      ],
      "execution_count": 39,
      "outputs": [
        {
          "output_type": "stream",
          "text": [
            "0    1. Ant\n",
            "1    2. Bee\n",
            "2    3. Cat\n",
            "3       NaN\n",
            "dtype: object\n"
          ],
          "name": "stdout"
        }
      ]
    },
    {
      "cell_type": "code",
      "metadata": {
        "colab": {
          "base_uri": "https://localhost:8080/"
        },
        "id": "wSDjcoRwupMf",
        "outputId": "bdef8ca1-b5e4-47bf-df16-4577a3dbc91c"
      },
      "source": [
        "#sklearn preprocessing\r\n",
        "weather=['Sunny','Sunny','Overcast','Rainy','Rainy','Rainy']\r\n",
        "temp=['Hot','Hot','Hot','Mild','Cool','Cool']\r\n",
        "play=['No','No','Yes','Yes','Yes','No']\r\n",
        "\r\n",
        "from sklearn import preprocessing\r\n",
        "le=preprocessing.LabelEncoder()\r\n",
        "weather_encoded=le.fit_transform(weather)\r\n",
        "print(weather_encoded)\r\n",
        "\r\n",
        "temp_encoded=le.fit_transform(temp)\r\n",
        "label=le.fit_transform(play)\r\n",
        "\r\n",
        "print(\"Temp\",temp_encoded)\r\n",
        "print(\"Play\",label)\r\n",
        "\r\n",
        "features=zip(weather_encoded,temp_encoded)\r\n",
        "print(features)\r\n"
      ],
      "execution_count": 40,
      "outputs": [
        {
          "output_type": "stream",
          "text": [
            "[2 2 0 1 1 1]\n",
            "Temp [1 1 1 2 0 0]\n",
            "Play [0 0 1 1 1 0]\n",
            "<zip object at 0x7fee8f99e640>\n"
          ],
          "name": "stdout"
        }
      ]
    },
    {
      "cell_type": "code",
      "metadata": {
        "colab": {
          "base_uri": "https://localhost:8080/"
        },
        "id": "ywWc4AtYuzr3",
        "outputId": "bcbf9e44-b44e-4455-8c13-7da39c507147"
      },
      "source": [
        "#concate pandas demo\r\n",
        "import pandas as pd\r\n",
        "left=pd.DataFrame({\r\n",
        "     \"id\":[1,2,3,4,5],\r\n",
        "     \"a\":[\"Ent1\",\"Ent2\",\"Ent3\",\"Ent4\",\"Ent5\"],\r\n",
        "     \"b\":[\"sub1\",\"sub2\",\"sub4\",\"sub6\",\"sub5\"]})\r\n",
        "\r\n",
        "right=pd.DataFrame({\r\n",
        "     \"id\":[1,2,3,4,5],\r\n",
        "     \"a\":[\"Enta\",\"Entb\",\"Entc\",\"Entd\",\"Ente\"],\r\n",
        "     \"b\":[\"sub2\",\"sub4\",\"sub3\",\"sub6\",\"sub5\"]})\r\n",
        "\r\n",
        "\r\n",
        "\r\n",
        "frames=[left,right]\r\n",
        "print(pd.concat(frames))"
      ],
      "execution_count": 41,
      "outputs": [
        {
          "output_type": "stream",
          "text": [
            "   id     a     b\n",
            "0   1  Ent1  sub1\n",
            "1   2  Ent2  sub2\n",
            "2   3  Ent3  sub4\n",
            "3   4  Ent4  sub6\n",
            "4   5  Ent5  sub5\n",
            "0   1  Enta  sub2\n",
            "1   2  Entb  sub4\n",
            "2   3  Entc  sub3\n",
            "3   4  Entd  sub6\n",
            "4   5  Ente  sub5\n"
          ],
          "name": "stdout"
        }
      ]
    },
    {
      "cell_type": "code",
      "metadata": {
        "colab": {
          "base_uri": "https://localhost:8080/"
        },
        "id": "g8_N4CYtu7Nf",
        "outputId": "a8820654-2a6b-4696-9389-01c8ea669ac3"
      },
      "source": [
        "#dataframe pandas rating\r\n",
        "import pandas as pd\r\n",
        "\r\n",
        "d={\"Name\":pd.Series([\"Tom\",\"James\",\"Ricky\",\"Vin\",\"Steve\",\"Smith\",\"Jack\",\"Lee\",\"David\",\"Gasper\",\"Betina\",\"Andres\"]),\r\n",
        "   \"Age\":pd.Series([25,26,25,23,30,29,23,34,40,30,51,46]),\r\n",
        "   \"Rating\":pd.Series([4.23,3.24,3.98,2.56,3.20,4.6,3.8,3.78,2.98,4.80,4.10,3.65])}\r\n",
        "\r\n",
        "df=pd.DataFrame(d)\r\n",
        "print(df.sum(0))"
      ],
      "execution_count": 42,
      "outputs": [
        {
          "output_type": "stream",
          "text": [
            "Name      TomJamesRickyVinSteveSmithJackLeeDavidGasperBe...\n",
            "Age                                                     382\n",
            "Rating                                                44.92\n",
            "dtype: object\n"
          ],
          "name": "stdout"
        }
      ]
    },
    {
      "cell_type": "code",
      "metadata": {
        "colab": {
          "base_uri": "https://localhost:8080/"
        },
        "id": "t3l2wgo1vBme",
        "outputId": "0d4f4266-85df-4e8a-8a11-2789f61419f9"
      },
      "source": [
        "#date time demo\r\n",
        "import pandas as pd\r\n",
        "from datetime import datetime\r\n",
        "from datetime import date\r\n",
        "\r\n",
        "'''\r\n",
        "#System Date\r\n",
        "print(date.today())\r\n",
        "\r\n",
        "#System Date Time\r\n",
        "print(datetime.today())\r\n",
        "\r\n",
        "#System Time\r\n",
        "print(datetime.now().time())\r\n",
        "'''\r\n",
        "\r\n",
        "\r\n",
        "start=datetime(2011,5,1)\r\n",
        "index=pd.date_range(start,periods=10,freq=\"D\")\r\n",
        "print(index)"
      ],
      "execution_count": 43,
      "outputs": [
        {
          "output_type": "stream",
          "text": [
            "DatetimeIndex(['2011-05-01', '2011-05-02', '2011-05-03', '2011-05-04',\n",
            "               '2011-05-05', '2011-05-06', '2011-05-07', '2011-05-08',\n",
            "               '2011-05-09', '2011-05-10'],\n",
            "              dtype='datetime64[ns]', freq='D')\n"
          ],
          "name": "stdout"
        }
      ]
    },
    {
      "cell_type": "code",
      "metadata": {
        "colab": {
          "base_uri": "https://localhost:8080/"
        },
        "id": "Hx4xP3hGvXSW",
        "outputId": "66822291-0032-4791-e5bc-9931abb82443"
      },
      "source": [
        "#matrix pandas\r\n",
        "import pandas as pd\r\n",
        "data={\"a\":0.536,\"b\":1.456,\"c\":2.7852}\r\n",
        "s=pd.Series(data) \r\n",
        "\r\n",
        "#mat=s.as_matrix()\r\n",
        "mat=s.values\r\n",
        "print(mat)"
      ],
      "execution_count": 44,
      "outputs": [
        {
          "output_type": "stream",
          "text": [
            "[0.536  1.456  2.7852]\n"
          ],
          "name": "stdout"
        }
      ]
    },
    {
      "cell_type": "code",
      "metadata": {
        "colab": {
          "base_uri": "https://localhost:8080/"
        },
        "id": "bVLSeezHvh6A",
        "outputId": "c9e1daf1-9661-49d1-f567-33e2f5fbdeff"
      },
      "source": [
        "#pandas reindex\r\n",
        "import pandas as pd\r\n",
        "df=pd.DataFrame([[0.23,1.56,-0.45],\r\n",
        "                 [1.2,-2.1,1.5],\r\n",
        "                 [-5.1,3.2,-6.5],\r\n",
        "                 [0.25,-0.36,-89],\r\n",
        "                 [0.39,-0.78,-1.58]],index=[\"a\",\"c\",\"e\",\"f\",\"h\"],columns=[\"one\",\"two\",\"three\"])\r\n",
        "\r\n",
        "df=df.reindex([\"a\",\"b\",\"c\",\"d\",\"e\",\"f\",\"g\",\"h\"])\r\n",
        "print(df[\"one\"].sum())"
      ],
      "execution_count": 45,
      "outputs": [
        {
          "output_type": "stream",
          "text": [
            "-3.0300000000000002\n"
          ],
          "name": "stdout"
        }
      ]
    },
    {
      "cell_type": "code",
      "metadata": {
        "colab": {
          "base_uri": "https://localhost:8080/"
        },
        "id": "n78MA8_IvoZH",
        "outputId": "589a6379-35ed-4f30-dc97-e59633ffc09a"
      },
      "source": [
        "#pandas series\r\n",
        "import pandas as pd\r\n",
        "s=pd.Series([1,2,3,4,5],index=[\"a\",\"b\",\"c\",\"d\",\"e\"])\r\n",
        "print(s[:3])"
      ],
      "execution_count": 46,
      "outputs": [
        {
          "output_type": "stream",
          "text": [
            "a    1\n",
            "b    2\n",
            "c    3\n",
            "dtype: int64\n"
          ],
          "name": "stdout"
        }
      ]
    }
  ]
}