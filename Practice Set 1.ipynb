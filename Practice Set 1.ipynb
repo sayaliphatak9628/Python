{
  "nbformat": 4,
  "nbformat_minor": 0,
  "metadata": {
    "colab": {
      "name": "Untitled2.ipynb",
      "provenance": [],
      "authorship_tag": "ABX9TyMMsJuvJF7x+ruAod8hF0Vu",
      "include_colab_link": true
    },
    "kernelspec": {
      "name": "python3",
      "display_name": "Python 3"
    }
  },
  "cells": [
    {
      "cell_type": "markdown",
      "metadata": {
        "id": "view-in-github",
        "colab_type": "text"
      },
      "source": [
        "<a href=\"https://colab.research.google.com/github/sayaliphatak9628/Python/blob/master/Practice%20Set%201.ipynb\" target=\"_parent\"><img src=\"https://colab.research.google.com/assets/colab-badge.svg\" alt=\"Open In Colab\"/></a>"
      ]
    },
    {
      "cell_type": "code",
      "metadata": {
        "colab": {
          "base_uri": "https://localhost:8080/"
        },
        "id": "MPMq_yrAd5sd",
        "outputId": "5a052585-e82f-4c43-f3ac-f166c27a3dde"
      },
      "source": [
        "L=list(\"python\")\r\n",
        "print(L)"
      ],
      "execution_count": 1,
      "outputs": [
        {
          "output_type": "stream",
          "text": [
            "['p', 'y', 't', 'h', 'o', 'n']\n"
          ],
          "name": "stdout"
        }
      ]
    },
    {
      "cell_type": "code",
      "metadata": {
        "colab": {
          "base_uri": "https://localhost:8080/",
          "height": 197
        },
        "id": "nde4JeeNenSn",
        "outputId": "b0c6aa60-19d2-4963-91c3-c4e3e50d12ae"
      },
      "source": [
        "b=a\r\n",
        "a.append(4)\r\n",
        "print(b)"
      ],
      "execution_count": 2,
      "outputs": [
        {
          "output_type": "error",
          "ename": "NameError",
          "evalue": "ignored",
          "traceback": [
            "\u001b[0;31m---------------------------------------------------------------------------\u001b[0m",
            "\u001b[0;31mNameError\u001b[0m                                 Traceback (most recent call last)",
            "\u001b[0;32m<ipython-input-2-e83cfc5ed96f>\u001b[0m in \u001b[0;36m<module>\u001b[0;34m()\u001b[0m\n\u001b[0;32m----> 1\u001b[0;31m \u001b[0mb\u001b[0m\u001b[0;34m=\u001b[0m\u001b[0ma\u001b[0m\u001b[0;34m\u001b[0m\u001b[0;34m\u001b[0m\u001b[0m\n\u001b[0m\u001b[1;32m      2\u001b[0m \u001b[0ma\u001b[0m\u001b[0;34m.\u001b[0m\u001b[0mappend\u001b[0m\u001b[0;34m(\u001b[0m\u001b[0;36m4\u001b[0m\u001b[0;34m)\u001b[0m\u001b[0;34m\u001b[0m\u001b[0;34m\u001b[0m\u001b[0m\n\u001b[1;32m      3\u001b[0m \u001b[0mprint\u001b[0m\u001b[0;34m(\u001b[0m\u001b[0mb\u001b[0m\u001b[0;34m)\u001b[0m\u001b[0;34m\u001b[0m\u001b[0;34m\u001b[0m\u001b[0m\n",
            "\u001b[0;31mNameError\u001b[0m: name 'a' is not defined"
          ]
        }
      ]
    },
    {
      "cell_type": "code",
      "metadata": {
        "colab": {
          "base_uri": "https://localhost:8080/"
        },
        "id": "Rz5lzq4Veo_R",
        "outputId": "55226453-a8a0-4a57-c1a7-822ec0afd4c7"
      },
      "source": [
        "city_a=['1','2','3','4']\r\n",
        "city_b=['2','3','4','5']\r\n",
        "\r\n",
        "print([i for i in city_a if i not in city_b])"
      ],
      "execution_count": 3,
      "outputs": [
        {
          "output_type": "stream",
          "text": [
            "['1']\n"
          ],
          "name": "stdout"
        }
      ]
    },
    {
      "cell_type": "code",
      "metadata": {
        "colab": {
          "base_uri": "https://localhost:8080/"
        },
        "id": "PrZtsSIlesRr",
        "outputId": "b1bcc24c-7a57-42d7-d0a5-4ff589eada2f"
      },
      "source": [
        "dictionary1={\"abc\":1,\r\n",
        "             \"Google\":2,\r\n",
        "             \"abc\":3}\r\n",
        "\r\n",
        "print(dictionary1[\"abc\"])"
      ],
      "execution_count": 4,
      "outputs": [
        {
          "output_type": "stream",
          "text": [
            "3\n"
          ],
          "name": "stdout"
        }
      ]
    },
    {
      "cell_type": "code",
      "metadata": {
        "colab": {
          "base_uri": "https://localhost:8080/"
        },
        "id": "ShAzS0dTe3kR",
        "outputId": "44846424-8db3-4d4d-d00e-a889cb5fa62b"
      },
      "source": [
        "d={1:[0,1,2,3,4],2:(4,6,8,10,10)}\r\n",
        "\r\n",
        "d[1].append(4)\r\n",
        "print(d[1],end=\"\")#[0,1,2,3,4,4]\r\n",
        "\r\n",
        "l=list(d[2])  \r\n",
        "l.append(10)  \r\n",
        "d[2]=tuple(l) \r\n",
        "print(d[2])      #(4,6,8,10,10,10)\r\n"
      ],
      "execution_count": 5,
      "outputs": [
        {
          "output_type": "stream",
          "text": [
            "[0, 1, 2, 3, 4, 4](4, 6, 8, 10, 10, 10)\n"
          ],
          "name": "stdout"
        }
      ]
    },
    {
      "cell_type": "code",
      "metadata": {
        "colab": {
          "base_uri": "https://localhost:8080/"
        },
        "id": "V9GejIhcfFnZ",
        "outputId": "2e0c6d73-7198-412c-c466-f954b617eba3"
      },
      "source": [
        "temp=dict()\r\n",
        "temp[\"key1\"]={\"key1\":44,\"key2\":566}\r\n",
        "temp[\"key2\"]=[1,2,3,4]\r\n",
        "\r\n",
        "for key,values in temp.items():\r\n",
        "    print(values,end=\"\")"
      ],
      "execution_count": 6,
      "outputs": [
        {
          "output_type": "stream",
          "text": [
            "{'key1': 44, 'key2': 566}[1, 2, 3, 4]"
          ],
          "name": "stdout"
        }
      ]
    },
    {
      "cell_type": "code",
      "metadata": {
        "colab": {
          "base_uri": "https://localhost:8080/"
        },
        "id": "b5aeDBjkfSNI",
        "outputId": "73b3212e-2b83-4cb0-8e01-e2c2702b38e5"
      },
      "source": [
        "mylist=[\"geeks\",\"forgeeks\"]\r\n",
        "for i in mylist:\r\n",
        "    i.upper()\r\n",
        "\r\n",
        "print(mylist)"
      ],
      "execution_count": 7,
      "outputs": [
        {
          "output_type": "stream",
          "text": [
            "['geeks', 'forgeeks']\n"
          ],
          "name": "stdout"
        }
      ]
    },
    {
      "cell_type": "code",
      "metadata": {
        "colab": {
          "base_uri": "https://localhost:8080/"
        },
        "id": "p1x22TojfV6a",
        "outputId": "815d2381-9038-4776-b999-5415578341df"
      },
      "source": [
        "def fun(x):\r\n",
        "    x[0]=5\r\n",
        "    return x\r\n",
        "\r\n",
        "g=[10,11,12]\r\n",
        "print(fun(g),g) "
      ],
      "execution_count": 8,
      "outputs": [
        {
          "output_type": "stream",
          "text": [
            "[5, 11, 12] [5, 11, 12]\n"
          ],
          "name": "stdout"
        }
      ]
    },
    {
      "cell_type": "code",
      "metadata": {
        "colab": {
          "base_uri": "https://localhost:8080/"
        },
        "id": "R-H0BdTBff3b",
        "outputId": "5d6e4b06-72b6-45f6-8563-4b6b36a01883"
      },
      "source": [
        "data=50\r\n",
        "\r\n",
        "try:\r\n",
        "    data=data/0\r\n",
        "except ZeroDivisionError:\r\n",
        "    print(\"cannot divide by 0\",end=\"\")\r\n",
        "else:\r\n",
        "    print(\"Division successful\",end=\"\")\r\n",
        "\r\n",
        "try:\r\n",
        "    data=data/5\r\n",
        "except:\r\n",
        "    print(\"inside except block\",end=\"\")\r\n",
        "else:\r\n",
        "    print(\"abc\",end=\"\")\r\n"
      ],
      "execution_count": 9,
      "outputs": [
        {
          "output_type": "stream",
          "text": [
            "cannot divide by 0abc"
          ],
          "name": "stdout"
        }
      ]
    },
    {
      "cell_type": "code",
      "metadata": {
        "colab": {
          "base_uri": "https://localhost:8080/"
        },
        "id": "UGZgJ_8rf0oT",
        "outputId": "ce473477-69d9-4a5b-c097-05feea84c92c"
      },
      "source": [
        "def sayHello():\r\n",
        "    print(\"Hello World\")\r\n",
        "\r\n",
        "sayHello()\r\n",
        "sayHello()"
      ],
      "execution_count": 10,
      "outputs": [
        {
          "output_type": "stream",
          "text": [
            "Hello World\n",
            "Hello World\n"
          ],
          "name": "stdout"
        }
      ]
    },
    {
      "cell_type": "code",
      "metadata": {
        "colab": {
          "base_uri": "https://localhost:8080/"
        },
        "id": "QmCs7sEIf2aG",
        "outputId": "e0237cb3-ecd0-4363-957d-f1428183af6d"
      },
      "source": [
        "class tester:\r\n",
        "    def __init__(self,id):\r\n",
        "        self.id=str(id)\r\n",
        "        id=\"224\"\r\n",
        "\r\n",
        "temp=tester(12)\r\n",
        "print(temp.id)"
      ],
      "execution_count": 11,
      "outputs": [
        {
          "output_type": "stream",
          "text": [
            "12\n"
          ],
          "name": "stdout"
        }
      ]
    },
    {
      "cell_type": "code",
      "metadata": {
        "colab": {
          "base_uri": "https://localhost:8080/"
        },
        "id": "q8dpo08af_2B",
        "outputId": "154b98d1-bc3f-4e23-ae25-b395411f7430"
      },
      "source": [
        "values=[1,2,3,4]        #[1,2,3,4]\r\n",
        "numbers=set(values)     #{1,2,3,4}\r\n",
        "\r\n",
        "def checknums(num):\r\n",
        "    if num in numbers:\r\n",
        "        return True\r\n",
        "    else:\r\n",
        "        return False\r\n",
        "\r\n",
        "for i in filter(checknums,values):\r\n",
        "    print(i)"
      ],
      "execution_count": 12,
      "outputs": [
        {
          "output_type": "stream",
          "text": [
            "1\n",
            "2\n",
            "3\n",
            "4\n"
          ],
          "name": "stdout"
        }
      ]
    },
    {
      "cell_type": "code",
      "metadata": {
        "colab": {
          "base_uri": "https://localhost:8080/",
          "height": 231
        },
        "id": "fO5LvftcjBmi",
        "outputId": "86ef8cd3-6831-4a6d-de78-438e1cda59cb"
      },
      "source": [
        "f=open(\"Counter_input.txt\",\"r\")\r\n",
        "f.close()\r\n",
        "print(f.closed)\r\n",
        "f=open(\"Counter_input.txt\",\"r\")\r\n",
        "print(f.closed)"
      ],
      "execution_count": 13,
      "outputs": [
        {
          "output_type": "error",
          "ename": "FileNotFoundError",
          "evalue": "ignored",
          "traceback": [
            "\u001b[0;31m---------------------------------------------------------------------------\u001b[0m",
            "\u001b[0;31mFileNotFoundError\u001b[0m                         Traceback (most recent call last)",
            "\u001b[0;32m<ipython-input-13-9f788959100e>\u001b[0m in \u001b[0;36m<module>\u001b[0;34m()\u001b[0m\n\u001b[0;32m----> 1\u001b[0;31m \u001b[0mf\u001b[0m\u001b[0;34m=\u001b[0m\u001b[0mopen\u001b[0m\u001b[0;34m(\u001b[0m\u001b[0;34m\"Counter_input.txt\"\u001b[0m\u001b[0;34m,\u001b[0m\u001b[0;34m\"r\"\u001b[0m\u001b[0;34m)\u001b[0m\u001b[0;34m\u001b[0m\u001b[0;34m\u001b[0m\u001b[0m\n\u001b[0m\u001b[1;32m      2\u001b[0m \u001b[0mf\u001b[0m\u001b[0;34m.\u001b[0m\u001b[0mclose\u001b[0m\u001b[0;34m(\u001b[0m\u001b[0;34m)\u001b[0m\u001b[0;34m\u001b[0m\u001b[0;34m\u001b[0m\u001b[0m\n\u001b[1;32m      3\u001b[0m \u001b[0mprint\u001b[0m\u001b[0;34m(\u001b[0m\u001b[0mf\u001b[0m\u001b[0;34m.\u001b[0m\u001b[0mclosed\u001b[0m\u001b[0;34m)\u001b[0m\u001b[0;34m\u001b[0m\u001b[0;34m\u001b[0m\u001b[0m\n\u001b[1;32m      4\u001b[0m \u001b[0mf\u001b[0m\u001b[0;34m=\u001b[0m\u001b[0mopen\u001b[0m\u001b[0;34m(\u001b[0m\u001b[0;34m\"Counter_input.txt\"\u001b[0m\u001b[0;34m,\u001b[0m\u001b[0;34m\"r\"\u001b[0m\u001b[0;34m)\u001b[0m\u001b[0;34m\u001b[0m\u001b[0;34m\u001b[0m\u001b[0m\n\u001b[1;32m      5\u001b[0m \u001b[0mprint\u001b[0m\u001b[0;34m(\u001b[0m\u001b[0mf\u001b[0m\u001b[0;34m.\u001b[0m\u001b[0mclosed\u001b[0m\u001b[0;34m)\u001b[0m\u001b[0;34m\u001b[0m\u001b[0;34m\u001b[0m\u001b[0m\n",
            "\u001b[0;31mFileNotFoundError\u001b[0m: [Errno 2] No such file or directory: 'Counter_input.txt'"
          ]
        }
      ]
    },
    {
      "cell_type": "code",
      "metadata": {
        "colab": {
          "base_uri": "https://localhost:8080/"
        },
        "id": "psfFCVX7jTEh",
        "outputId": "9e61c101-611a-4ad6-e18e-3cbe89f1040d"
      },
      "source": [
        "#P E MD AS Rule \r\n",
        "\r\n",
        "def generate_ngrams(text,n):\r\n",
        "    words=text.split()\r\n",
        "    output=[]\r\n",
        "    for i in range(len(words)-n+1):\r\n",
        "        output.append(words[i:i+n])\r\n",
        "    print(output)\r\n",
        "\r\n",
        "\r\n",
        "generate_ngrams(\"This is a sample text\",3)"
      ],
      "execution_count": 14,
      "outputs": [
        {
          "output_type": "stream",
          "text": [
            "[['This', 'is', 'a'], ['is', 'a', 'sample'], ['a', 'sample', 'text']]\n"
          ],
          "name": "stdout"
        }
      ]
    },
    {
      "cell_type": "code",
      "metadata": {
        "colab": {
          "base_uri": "https://localhost:8080/"
        },
        "id": "coVUN7j4jgsr",
        "outputId": "b444a30e-e504-4964-b107-154af5920d45"
      },
      "source": [
        "print(1==\"1\")"
      ],
      "execution_count": 15,
      "outputs": [
        {
          "output_type": "stream",
          "text": [
            "False\n"
          ],
          "name": "stdout"
        }
      ]
    },
    {
      "cell_type": "code",
      "metadata": {
        "colab": {
          "base_uri": "https://localhost:8080/"
        },
        "id": "f1X9e8DojheG",
        "outputId": "591859f2-a62b-4e5f-cc25-ef362c39e5fd"
      },
      "source": [
        "p=4+2**5//10\r\n",
        "print(p)"
      ],
      "execution_count": 16,
      "outputs": [
        {
          "output_type": "stream",
          "text": [
            "7\n"
          ],
          "name": "stdout"
        }
      ]
    },
    {
      "cell_type": "code",
      "metadata": {
        "colab": {
          "base_uri": "https://localhost:8080/"
        },
        "id": "c9MhvfFZj72T",
        "outputId": "21323baf-da83-4592-affd-6646dc537b75"
      },
      "source": [
        "try:\r\n",
        "    a=int(input(\"Enter first number\"))\r\n",
        "    b=int(input(\"Enter second number\"))\r\n",
        "\r\n",
        "    c=a/b\r\n",
        "\r\n",
        "except ValueError as ve:\r\n",
        "    print(\"Please enter correct value\")\r\n",
        "    \r\n",
        "except Exception as e:\r\n",
        "    print(e)\r\n",
        "    \r\n",
        "else:\r\n",
        "    print(\"Division: \",c)"
      ],
      "execution_count": 17,
      "outputs": [
        {
          "output_type": "stream",
          "text": [
            "Enter first number5\n",
            "Enter second number4\n",
            "Division:  1.25\n"
          ],
          "name": "stdout"
        }
      ]
    }
  ]
}